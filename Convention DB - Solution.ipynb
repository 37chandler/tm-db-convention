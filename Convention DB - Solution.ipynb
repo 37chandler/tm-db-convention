{
 "cells": [
  {
   "cell_type": "markdown",
   "metadata": {},
   "source": [
    "## Convention Database\n",
    "\n",
    "In this notebook we store our convention data in a database. See the README for details."
   ]
  },
  {
   "cell_type": "code",
   "execution_count": 5,
   "metadata": {},
   "outputs": [],
   "source": [
    "import re\n",
    "import sqlite3\n",
    "import os\n",
    "from collections import defaultdict"
   ]
  },
  {
   "cell_type": "code",
   "execution_count": 6,
   "metadata": {},
   "outputs": [],
   "source": [
    "path_to_files = \"C:/users/jchan/dropbox/teaching/outsidedata/2020Conventions/\"\n",
    "transcript_files = os.listdir(path_to_files)"
   ]
  },
  {
   "cell_type": "code",
   "execution_count": 7,
   "metadata": {},
   "outputs": [
    {
     "data": {
      "text/plain": [
       "['www_rev_com_blog_transcripts2020-democratic-national-convention-dnc-night-4-transcript.txt',\n",
       " 'www_rev_com_blog_transcripts2020-republican-national-convention-rnc-night-1-transcript.txt',\n",
       " 'www_rev_com_blog_transcripts2020-republican-national-convention-rnc-night-2-transcript.txt',\n",
       " 'www_rev_com_blog_transcripts2020-republican-national-convention-rnc-night-3-transcript.txt',\n",
       " 'www_rev_com_blog_transcripts2020-republican-national-convention-rnc-night-4-transcript.txt',\n",
       " 'www_rev_com_blog_transcriptsdemocratic-national-convention-dnc-2020-night-2-transcript.txt',\n",
       " 'www_rev_com_blog_transcriptsdemocratic-national-convention-dnc-night-1-transcript.txt',\n",
       " 'www_rev_com_blog_transcriptsdemocratic-national-convention-dnc-night-3-transcript.txt']"
      ]
     },
     "execution_count": 7,
     "metadata": {},
     "output_type": "execute_result"
    }
   ],
   "source": [
    "transcript_files"
   ]
  },
  {
   "cell_type": "markdown",
   "metadata": {},
   "source": [
    "Let's start by creating a lookup between the files and the nights/parties. "
   ]
  },
  {
   "cell_type": "code",
   "execution_count": 20,
   "metadata": {},
   "outputs": [],
   "source": [
    "# Just going to be a two-item list with party and night.\n",
    "lookup_party_night = defaultdict(list)\n",
    "\n",
    "file_night = re.compile(r\"night-[1-4]\")\n",
    "\n",
    "for file in transcript_files :\n",
    "    if \"rnc\" in file :\n",
    "        lookup_party_night[file].append(\"Republican\")\n",
    "    elif \"dnc\" in file : \n",
    "        lookup_party_night[file].append(\"Democratic\")\n",
    "        \n",
    "    night_text = file_night.search(file).group(0)    \n",
    "    lookup_party_night[file].append(night_text.split(\"-\")[1])\n"
   ]
  },
  {
   "cell_type": "markdown",
   "metadata": {},
   "source": [
    "Now let's set up our DB."
   ]
  },
  {
   "cell_type": "code",
   "execution_count": 22,
   "metadata": {},
   "outputs": [],
   "source": [
    "db = sqlite3.connect(\"2020_Conventions.db\")\n",
    "cur = db.cursor()"
   ]
  },
  {
   "cell_type": "code",
   "execution_count": 25,
   "metadata": {},
   "outputs": [],
   "source": [
    "cur.execute('''DROP TABLE IF EXISTS conventions''')\n",
    "cur.execute('''CREATE TABLE conventions (\n",
    "    party TEXT, \n",
    "    night INTEGER, \n",
    "    speaker TEXT,\n",
    "    speaker_count INTEGER,\n",
    "    time TEXT, \n",
    "    text TEXT,\n",
    "    file TEXT)''')\n",
    "\n",
    "db.commit()"
   ]
  },
  {
   "cell_type": "markdown",
   "metadata": {},
   "source": [
    "Okay, that was easy enough. Now the tough part. We're going to need to use a regular expression to match the speaker, split the text on that, and funnel everything into the right spot. We wrapped the text, so we'll clean returns out of the text as we put it in. "
   ]
  },
  {
   "cell_type": "markdown",
   "metadata": {},
   "source": [
    "### Notes\n",
    "\n",
    "After writing this crazy regular expression, I think the move is to look for the time and then work our way backward to the previous period. "
   ]
  },
  {
   "cell_type": "code",
   "execution_count": 128,
   "metadata": {},
   "outputs": [],
   "source": [
    "speaker_pattern = re.compile(r\"[A-Z][a-z]+( [A-Z]\\.)?( [A-Z0-9][a-zA-Z0-9’-]*)?( Jr.)?: \\( (\\d{2}:)?\\d{2}:\\d{2} \\)\")\n",
    "time_pattern = re.compile(r\"\\( (\\d{2}:)?\\d{2}:\\d{2} \\)\")\n",
    "returns_pattern = re.compile(r\"\\n\")\n"
   ]
  },
  {
   "cell_type": "code",
   "execution_count": 129,
   "metadata": {},
   "outputs": [],
   "source": [
    "with open(path_to_files + transcript_files[0],encoding=\"UTF-8\") as infile :\n",
    "    holder = infile.read()\n",
    "    holder = returns_pattern.sub(\" \",holder)\n",
    "    "
   ]
  },
  {
   "cell_type": "code",
   "execution_count": 130,
   "metadata": {},
   "outputs": [],
   "source": [
    "speakers = speaker_pattern.findall(holder)\n",
    "text = speaker_pattern.split(holder,maxsplit=0)\n",
    "text = [t for t in text if t]\n",
    "text = text[1:]\n"
   ]
  },
  {
   "cell_type": "code",
   "execution_count": null,
   "metadata": {},
   "outputs": [],
   "source": [
    "for i in range(10) :\n",
    "    print(speakers[i])\n",
    "    print(text[i+1])"
   ]
  },
  {
   "cell_type": "code",
   "execution_count": 136,
   "metadata": {},
   "outputs": [
    {
     "data": {
      "text/plain": [
       "['Skip to content The Company Careers Press Freelancers Blog × Services Transcription Captions Foreign Subtitles Translation Freelancers About Contact Login « Return to Transcript Library home  Transcript Categories  All Transcripts 2020 Election Transcripts Classic Speech Transcripts Congressional Testimony & Hearing Transcripts Debate Transcripts Donald Trump Transcripts Entertainment Transcripts Financial Transcripts Interview Transcripts Political Transcripts Press Conference Transcripts Speech Transcripts Sports Transcripts Technology Transcripts Aug 21, 2020 2020 Democratic National Convention (DNC) Night 4 Transcript Rev  ›  Blog  ›  Transcripts  › 2020 Election Transcripts  ›  2020 Democratic National Convention (DNC) Night 4 Transcript Night 4 of the 2020 Democratic National Convention (DNC) on August 20. Read the full transcript of the event here. Transcribe Your Own Content  Try Rev for free  and save time transcribing, captioning, and subtitling. ',\n",
       " ' 1',\n",
       " '  I’m here by calling the full session of the 48th Quadrennial National Convention of the Democratic Party to order. Welcome all to our final session of this historic and memorable convention. We’ve called the 48th Quadrennial Democratic National Convention to order. ',\n",
       " ' 2',\n",
       " '  Every four years, we come together to reaffirm our democracy. This year, we’ve come to save it. ',\n",
       " ' Washington',\n",
       " '  We fight for a more perfect union because we are fighting for the soul of this country and for our lives. And right now that fight is real. ',\n",
       " ' Sanders',\n",
       " '  We must come together to defeat Donald Trump, and elect Joe Biden and Kamala Harris as our next President and Vice President. ',\n",
       " ' Obama']"
      ]
     },
     "execution_count": 136,
     "metadata": {},
     "output_type": "execute_result"
    }
   ],
   "source": [
    "text[:10]"
   ]
  },
  {
   "cell_type": "code",
   "execution_count": 138,
   "metadata": {},
   "outputs": [
    {
     "data": {
      "text/plain": [
       "[('', ' Campbell', '', ''),\n",
       " ('', ' Coons', '', ''),\n",
       " ('', ' Coons', '', ''),\n",
       " ('', ' Coons', '', ''),\n",
       " ('', ' Coons', '', ''),\n",
       " ('', ' Thompson', '', ''),\n",
       " ('', ' Biden', '', ''),\n",
       " ('', ' Biden', '', ''),\n",
       " ('', ' Louis-Dreyfus', '', ''),\n",
       " ('', ' Bottoms', '', '')]"
      ]
     },
     "execution_count": 138,
     "metadata": {},
     "output_type": "execute_result"
    }
   ],
   "source": [
    "speakers[100:110]"
   ]
  },
  {
   "cell_type": "code",
   "execution_count": 133,
   "metadata": {},
   "outputs": [
    {
     "data": {
      "text/plain": [
       "1211"
      ]
     },
     "execution_count": 133,
     "metadata": {},
     "output_type": "execute_result"
    }
   ],
   "source": [
    "len(text)"
   ]
  }
 ],
 "metadata": {
  "kernelspec": {
   "display_name": "Python 3",
   "language": "python",
   "name": "python3"
  },
  "language_info": {
   "codemirror_mode": {
    "name": "ipython",
    "version": 3
   },
   "file_extension": ".py",
   "mimetype": "text/x-python",
   "name": "python",
   "nbconvert_exporter": "python",
   "pygments_lexer": "ipython3",
   "version": "3.7.3"
  }
 },
 "nbformat": 4,
 "nbformat_minor": 4
}
